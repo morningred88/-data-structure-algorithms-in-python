{
  "nbformat": 4,
  "nbformat_minor": 0,
  "metadata": {
    "colab": {
      "name": "array.ipynb",
      "provenance": [],
      "toc_visible": true
    },
    "kernelspec": {
      "name": "python3",
      "display_name": "Python 3"
    },
    "language_info": {
      "name": "python"
    }
  },
  "cells": [
    {
      "cell_type": "markdown",
      "metadata": {
        "id": "5lcVHO7P4DVB"
      },
      "source": [
        "Create a list and initialize with same values by [] and multiply:\n"
      ]
    },
    {
      "cell_type": "code",
      "metadata": {
        "id": "VosIVWkS8Map"
      },
      "source": [
        "from google.colab import drive\n",
        "drive.mount('/content/drive')"
      ],
      "execution_count": null,
      "outputs": []
    },
    {
      "cell_type": "code",
      "metadata": {
        "colab": {
          "base_uri": "https://localhost:8080/"
        },
        "id": "oVJbH2qB492s",
        "outputId": "2afd2b03-386d-4eee-86b7-5ed8ceecd860"
      },
      "source": [
        "# Create a list with 5 repeated string Hi\n",
        "list_of_strings = ['Hi'] * 5\n",
        "\n",
        "list_of_strings"
      ],
      "execution_count": 10,
      "outputs": [
        {
          "output_type": "execute_result",
          "data": {
            "text/plain": [
              "['Hi', 'Hi', 'Hi', 'Hi', 'Hi']"
            ]
          },
          "metadata": {},
          "execution_count": 10
        }
      ]
    },
    {
      "cell_type": "code",
      "metadata": {
        "colab": {
          "base_uri": "https://localhost:8080/"
        },
        "id": "Oae38z2l7xjk",
        "outputId": "da773d9f-6b01-49fd-8f4d-f819a52e4b8d"
      },
      "source": [
        "# Create a list with 6 repeated integer 2\n",
        "list_of_integers = [2] * 6\n",
        "\n",
        "list_of_integers"
      ],
      "execution_count": 11,
      "outputs": [
        {
          "output_type": "execute_result",
          "data": {
            "text/plain": [
              "[2, 2, 2, 2, 2, 2]"
            ]
          },
          "metadata": {},
          "execution_count": 11
        }
      ]
    }
  ]
}